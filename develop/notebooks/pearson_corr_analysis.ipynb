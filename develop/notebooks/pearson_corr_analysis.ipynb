{
 "cells": [
  {
   "cell_type": "code",
   "execution_count": 26,
   "id": "3b1ba6d1",
   "metadata": {},
   "outputs": [],
   "source": [
    "from typing import Dict, Tuple\n",
    "import pandas as pd\n",
    "import numpy as np\n",
    "import matplotlib.pyplot as plt\n",
    "import seaborn as sns\n",
    "import os\n",
    "import joypy\n",
    "import sys\n",
    "\n",
    "from develop.utils.paths import DATA_ALT\n",
    "\n",
    "pd.set_option('display.expand_frame_repr', False)\n",
    "pd.set_option('display.max_columns', None)"
   ]
  },
  {
   "cell_type": "code",
   "execution_count": 27,
   "id": "cfedc332",
   "metadata": {},
   "outputs": [],
   "source": [
    "cols_interest = ['year', 'ref_year' 'index', 'count', 'count_t-1','entropy', 'cosine_similarity', 'cross_entropy', 'kl_divergence']\n",
    "\n",
    "fixed = \"df_fixed_1920-2020.csv\"\n",
    "chain = \"df_chain_1920-2020.csv\"\n",
    "\n",
    "df_fixed = pd.read_csv(os.path.join(DATA_ALT, \"04_create_metrics\", fixed), sep=\"|\")\n",
    "df_chain = pd.read_csv(os.path.join(DATA_ALT, \"04_create_metrics\", chain), sep=\"|\")"
   ]
  },
  {
   "cell_type": "code",
   "execution_count": 28,
   "id": "1f18fe02",
   "metadata": {},
   "outputs": [],
   "source": [
    "df_fixed['freq_pct_inc'] = ((df_fixed['count']-df_fixed['count_t-1']) / df_fixed['count_t-1']).round(4)\n",
    "df_chain['freq_pct_inc'] = ((df_chain['count']-df_chain['count_t-1']) / df_chain['count_t-1']).round(4)"
   ]
  },
  {
   "cell_type": "markdown",
   "id": "1a2b6918",
   "metadata": {},
   "source": [
    "## Fixed Based - Pearson Correlation"
   ]
  },
  {
   "cell_type": "code",
   "execution_count": 29,
   "id": "83b40aa4",
   "metadata": {},
   "outputs": [
    {
     "data": {
      "application/vnd.microsoft.datawrangler.viewer.v0+json": {
       "columns": [
        {
         "name": "index",
         "rawType": "object",
         "type": "string"
        },
        {
         "name": "cosine_similarity",
         "rawType": "float64",
         "type": "float"
        },
        {
         "name": "cross_entropy",
         "rawType": "float64",
         "type": "float"
        },
        {
         "name": "entropy",
         "rawType": "float64",
         "type": "float"
        },
        {
         "name": "kl_divergence",
         "rawType": "float64",
         "type": "float"
        },
        {
         "name": "freq_pct_inc",
         "rawType": "float64",
         "type": "float"
        }
       ],
       "ref": "8b26930c-1fff-4a5f-8b04-7d4e21e5720b",
       "rows": [
        [
         "cosine_similarity",
         "1.0",
         "-0.0605",
         "-0.4742",
         "0.3289",
         "-0.0439"
        ],
        [
         "cross_entropy",
         "-0.0605",
         "1.0",
         "-0.002",
         "0.633",
         "0.0156"
        ],
        [
         "entropy",
         "-0.4742",
         "-0.002",
         "1.0",
         "-0.7754",
         "-0.1248"
        ],
        [
         "kl_divergence",
         "0.3289",
         "0.633",
         "-0.7754",
         "1.0",
         "0.1065"
        ],
        [
         "freq_pct_inc",
         "-0.0439",
         "0.0156",
         "-0.1248",
         "0.1065",
         "1.0"
        ]
       ],
       "shape": {
        "columns": 5,
        "rows": 5
       }
      },
      "text/html": [
       "<div>\n",
       "<style scoped>\n",
       "    .dataframe tbody tr th:only-of-type {\n",
       "        vertical-align: middle;\n",
       "    }\n",
       "\n",
       "    .dataframe tbody tr th {\n",
       "        vertical-align: top;\n",
       "    }\n",
       "\n",
       "    .dataframe thead th {\n",
       "        text-align: right;\n",
       "    }\n",
       "</style>\n",
       "<table border=\"1\" class=\"dataframe\">\n",
       "  <thead>\n",
       "    <tr style=\"text-align: right;\">\n",
       "      <th></th>\n",
       "      <th>cosine_similarity</th>\n",
       "      <th>cross_entropy</th>\n",
       "      <th>entropy</th>\n",
       "      <th>kl_divergence</th>\n",
       "      <th>freq_pct_inc</th>\n",
       "    </tr>\n",
       "  </thead>\n",
       "  <tbody>\n",
       "    <tr>\n",
       "      <th>cosine_similarity</th>\n",
       "      <td>1.0000</td>\n",
       "      <td>-0.0605</td>\n",
       "      <td>-0.4742</td>\n",
       "      <td>0.3289</td>\n",
       "      <td>-0.0439</td>\n",
       "    </tr>\n",
       "    <tr>\n",
       "      <th>cross_entropy</th>\n",
       "      <td>-0.0605</td>\n",
       "      <td>1.0000</td>\n",
       "      <td>-0.0020</td>\n",
       "      <td>0.6330</td>\n",
       "      <td>0.0156</td>\n",
       "    </tr>\n",
       "    <tr>\n",
       "      <th>entropy</th>\n",
       "      <td>-0.4742</td>\n",
       "      <td>-0.0020</td>\n",
       "      <td>1.0000</td>\n",
       "      <td>-0.7754</td>\n",
       "      <td>-0.1248</td>\n",
       "    </tr>\n",
       "    <tr>\n",
       "      <th>kl_divergence</th>\n",
       "      <td>0.3289</td>\n",
       "      <td>0.6330</td>\n",
       "      <td>-0.7754</td>\n",
       "      <td>1.0000</td>\n",
       "      <td>0.1065</td>\n",
       "    </tr>\n",
       "    <tr>\n",
       "      <th>freq_pct_inc</th>\n",
       "      <td>-0.0439</td>\n",
       "      <td>0.0156</td>\n",
       "      <td>-0.1248</td>\n",
       "      <td>0.1065</td>\n",
       "      <td>1.0000</td>\n",
       "    </tr>\n",
       "  </tbody>\n",
       "</table>\n",
       "</div>"
      ],
      "text/plain": [
       "                   cosine_similarity  cross_entropy  entropy  kl_divergence  freq_pct_inc\n",
       "cosine_similarity             1.0000        -0.0605  -0.4742         0.3289       -0.0439\n",
       "cross_entropy                -0.0605         1.0000  -0.0020         0.6330        0.0156\n",
       "entropy                      -0.4742        -0.0020   1.0000        -0.7754       -0.1248\n",
       "kl_divergence                 0.3289         0.6330  -0.7754         1.0000        0.1065\n",
       "freq_pct_inc                 -0.0439         0.0156  -0.1248         0.1065        1.0000"
      ]
     },
     "execution_count": 29,
     "metadata": {},
     "output_type": "execute_result"
    }
   ],
   "source": [
    "df_fixed[['cosine_similarity', 'cross_entropy', 'entropy', 'kl_divergence', 'freq_pct_inc']].corr().round(4)"
   ]
  },
  {
   "cell_type": "markdown",
   "id": "dee8177b",
   "metadata": {},
   "source": [
    "## Fixed Based - Spearman Correlation"
   ]
  },
  {
   "cell_type": "code",
   "execution_count": 30,
   "id": "e1eae7c7",
   "metadata": {},
   "outputs": [
    {
     "data": {
      "application/vnd.microsoft.datawrangler.viewer.v0+json": {
       "columns": [
        {
         "name": "index",
         "rawType": "object",
         "type": "string"
        },
        {
         "name": "cosine_similarity",
         "rawType": "float64",
         "type": "float"
        },
        {
         "name": "cross_entropy",
         "rawType": "float64",
         "type": "float"
        },
        {
         "name": "entropy",
         "rawType": "float64",
         "type": "float"
        },
        {
         "name": "kl_divergence",
         "rawType": "float64",
         "type": "float"
        },
        {
         "name": "freq_pct_inc",
         "rawType": "float64",
         "type": "float"
        }
       ],
       "ref": "ae8c8a61-8e52-4195-a0cf-aeefe9037aa8",
       "rows": [
        [
         "cosine_similarity",
         "1.0",
         "-0.1733",
         "-0.3851",
         "0.3099",
         "-0.0445"
        ],
        [
         "cross_entropy",
         "-0.1733",
         "1.0",
         "-0.0186",
         "0.4236",
         "-0.2633"
        ],
        [
         "entropy",
         "-0.3851",
         "-0.0186",
         "1.0",
         "-0.8309",
         "-0.2814"
        ],
        [
         "kl_divergence",
         "0.3099",
         "0.4236",
         "-0.8309",
         "1.0",
         "0.0843"
        ],
        [
         "freq_pct_inc",
         "-0.0445",
         "-0.2633",
         "-0.2814",
         "0.0843",
         "1.0"
        ]
       ],
       "shape": {
        "columns": 5,
        "rows": 5
       }
      },
      "text/html": [
       "<div>\n",
       "<style scoped>\n",
       "    .dataframe tbody tr th:only-of-type {\n",
       "        vertical-align: middle;\n",
       "    }\n",
       "\n",
       "    .dataframe tbody tr th {\n",
       "        vertical-align: top;\n",
       "    }\n",
       "\n",
       "    .dataframe thead th {\n",
       "        text-align: right;\n",
       "    }\n",
       "</style>\n",
       "<table border=\"1\" class=\"dataframe\">\n",
       "  <thead>\n",
       "    <tr style=\"text-align: right;\">\n",
       "      <th></th>\n",
       "      <th>cosine_similarity</th>\n",
       "      <th>cross_entropy</th>\n",
       "      <th>entropy</th>\n",
       "      <th>kl_divergence</th>\n",
       "      <th>freq_pct_inc</th>\n",
       "    </tr>\n",
       "  </thead>\n",
       "  <tbody>\n",
       "    <tr>\n",
       "      <th>cosine_similarity</th>\n",
       "      <td>1.0000</td>\n",
       "      <td>-0.1733</td>\n",
       "      <td>-0.3851</td>\n",
       "      <td>0.3099</td>\n",
       "      <td>-0.0445</td>\n",
       "    </tr>\n",
       "    <tr>\n",
       "      <th>cross_entropy</th>\n",
       "      <td>-0.1733</td>\n",
       "      <td>1.0000</td>\n",
       "      <td>-0.0186</td>\n",
       "      <td>0.4236</td>\n",
       "      <td>-0.2633</td>\n",
       "    </tr>\n",
       "    <tr>\n",
       "      <th>entropy</th>\n",
       "      <td>-0.3851</td>\n",
       "      <td>-0.0186</td>\n",
       "      <td>1.0000</td>\n",
       "      <td>-0.8309</td>\n",
       "      <td>-0.2814</td>\n",
       "    </tr>\n",
       "    <tr>\n",
       "      <th>kl_divergence</th>\n",
       "      <td>0.3099</td>\n",
       "      <td>0.4236</td>\n",
       "      <td>-0.8309</td>\n",
       "      <td>1.0000</td>\n",
       "      <td>0.0843</td>\n",
       "    </tr>\n",
       "    <tr>\n",
       "      <th>freq_pct_inc</th>\n",
       "      <td>-0.0445</td>\n",
       "      <td>-0.2633</td>\n",
       "      <td>-0.2814</td>\n",
       "      <td>0.0843</td>\n",
       "      <td>1.0000</td>\n",
       "    </tr>\n",
       "  </tbody>\n",
       "</table>\n",
       "</div>"
      ],
      "text/plain": [
       "                   cosine_similarity  cross_entropy  entropy  kl_divergence  freq_pct_inc\n",
       "cosine_similarity             1.0000        -0.1733  -0.3851         0.3099       -0.0445\n",
       "cross_entropy                -0.1733         1.0000  -0.0186         0.4236       -0.2633\n",
       "entropy                      -0.3851        -0.0186   1.0000        -0.8309       -0.2814\n",
       "kl_divergence                 0.3099         0.4236  -0.8309         1.0000        0.0843\n",
       "freq_pct_inc                 -0.0445        -0.2633  -0.2814         0.0843        1.0000"
      ]
     },
     "execution_count": 30,
     "metadata": {},
     "output_type": "execute_result"
    }
   ],
   "source": [
    "df_fixed[['cosine_similarity', 'cross_entropy', 'entropy', 'kl_divergence', 'freq_pct_inc']].corr(method='spearman').round(4)"
   ]
  },
  {
   "cell_type": "markdown",
   "id": "a7881aea",
   "metadata": {},
   "source": [
    "## Chain Based - Pearson Correlation"
   ]
  },
  {
   "cell_type": "code",
   "execution_count": 24,
   "id": "4cae6c9f",
   "metadata": {},
   "outputs": [
    {
     "data": {
      "application/vnd.microsoft.datawrangler.viewer.v0+json": {
       "columns": [
        {
         "name": "index",
         "rawType": "object",
         "type": "string"
        },
        {
         "name": "cosine_similarity",
         "rawType": "float64",
         "type": "float"
        },
        {
         "name": "cross_entropy",
         "rawType": "float64",
         "type": "float"
        },
        {
         "name": "entropy",
         "rawType": "float64",
         "type": "float"
        },
        {
         "name": "kl_divergence",
         "rawType": "float64",
         "type": "float"
        },
        {
         "name": "freq_pct_inc",
         "rawType": "float64",
         "type": "float"
        }
       ],
       "ref": "df65c8d9-f741-4eee-9305-a12da311917b",
       "rows": [
        [
         "cosine_similarity",
         "1.0",
         "-0.3766",
         "-0.5202",
         "0.3874",
         "-0.0361"
        ],
        [
         "cross_entropy",
         "-0.3766",
         "1.0",
         "0.7201",
         "-0.079",
         "0.0188"
        ],
        [
         "entropy",
         "-0.5202",
         "0.7201",
         "1.0",
         "-0.7486",
         "-0.0206"
        ],
        [
         "kl_divergence",
         "0.3874",
         "-0.079",
         "-0.7486",
         "1.0",
         "0.0476"
        ],
        [
         "freq_pct_inc",
         "-0.0361",
         "0.0188",
         "-0.0206",
         "0.0476",
         "1.0"
        ]
       ],
       "shape": {
        "columns": 5,
        "rows": 5
       }
      },
      "text/html": [
       "<div>\n",
       "<style scoped>\n",
       "    .dataframe tbody tr th:only-of-type {\n",
       "        vertical-align: middle;\n",
       "    }\n",
       "\n",
       "    .dataframe tbody tr th {\n",
       "        vertical-align: top;\n",
       "    }\n",
       "\n",
       "    .dataframe thead th {\n",
       "        text-align: right;\n",
       "    }\n",
       "</style>\n",
       "<table border=\"1\" class=\"dataframe\">\n",
       "  <thead>\n",
       "    <tr style=\"text-align: right;\">\n",
       "      <th></th>\n",
       "      <th>cosine_similarity</th>\n",
       "      <th>cross_entropy</th>\n",
       "      <th>entropy</th>\n",
       "      <th>kl_divergence</th>\n",
       "      <th>freq_pct_inc</th>\n",
       "    </tr>\n",
       "  </thead>\n",
       "  <tbody>\n",
       "    <tr>\n",
       "      <th>cosine_similarity</th>\n",
       "      <td>1.0000</td>\n",
       "      <td>-0.3766</td>\n",
       "      <td>-0.5202</td>\n",
       "      <td>0.3874</td>\n",
       "      <td>-0.0361</td>\n",
       "    </tr>\n",
       "    <tr>\n",
       "      <th>cross_entropy</th>\n",
       "      <td>-0.3766</td>\n",
       "      <td>1.0000</td>\n",
       "      <td>0.7201</td>\n",
       "      <td>-0.0790</td>\n",
       "      <td>0.0188</td>\n",
       "    </tr>\n",
       "    <tr>\n",
       "      <th>entropy</th>\n",
       "      <td>-0.5202</td>\n",
       "      <td>0.7201</td>\n",
       "      <td>1.0000</td>\n",
       "      <td>-0.7486</td>\n",
       "      <td>-0.0206</td>\n",
       "    </tr>\n",
       "    <tr>\n",
       "      <th>kl_divergence</th>\n",
       "      <td>0.3874</td>\n",
       "      <td>-0.0790</td>\n",
       "      <td>-0.7486</td>\n",
       "      <td>1.0000</td>\n",
       "      <td>0.0476</td>\n",
       "    </tr>\n",
       "    <tr>\n",
       "      <th>freq_pct_inc</th>\n",
       "      <td>-0.0361</td>\n",
       "      <td>0.0188</td>\n",
       "      <td>-0.0206</td>\n",
       "      <td>0.0476</td>\n",
       "      <td>1.0000</td>\n",
       "    </tr>\n",
       "  </tbody>\n",
       "</table>\n",
       "</div>"
      ],
      "text/plain": [
       "                   cosine_similarity  cross_entropy  entropy  kl_divergence  freq_pct_inc\n",
       "cosine_similarity             1.0000        -0.3766  -0.5202         0.3874       -0.0361\n",
       "cross_entropy                -0.3766         1.0000   0.7201        -0.0790        0.0188\n",
       "entropy                      -0.5202         0.7201   1.0000        -0.7486       -0.0206\n",
       "kl_divergence                 0.3874        -0.0790  -0.7486         1.0000        0.0476\n",
       "freq_pct_inc                 -0.0361         0.0188  -0.0206         0.0476        1.0000"
      ]
     },
     "execution_count": 24,
     "metadata": {},
     "output_type": "execute_result"
    }
   ],
   "source": [
    "df_chain[['cosine_similarity', 'cross_entropy', 'entropy', 'kl_divergence', 'freq_pct_inc']].corr().round(4)\n"
   ]
  },
  {
   "cell_type": "markdown",
   "id": "d7a9de67",
   "metadata": {},
   "source": [
    "## Chain Based - Spearman Correlation"
   ]
  },
  {
   "cell_type": "code",
   "execution_count": null,
   "id": "968f10a8",
   "metadata": {},
   "outputs": [
    {
     "data": {
      "application/vnd.microsoft.datawrangler.viewer.v0+json": {
       "columns": [
        {
         "name": "index",
         "rawType": "object",
         "type": "string"
        },
        {
         "name": "cosine_similarity",
         "rawType": "float64",
         "type": "float"
        },
        {
         "name": "cross_entropy",
         "rawType": "float64",
         "type": "float"
        },
        {
         "name": "entropy",
         "rawType": "float64",
         "type": "float"
        },
        {
         "name": "kl_divergence",
         "rawType": "float64",
         "type": "float"
        },
        {
         "name": "freq_pct_inc",
         "rawType": "float64",
         "type": "float"
        }
       ],
       "ref": "5c9899f3-504a-4287-93a3-95f31541132e",
       "rows": [
        [
         "cosine_similarity",
         "1.0",
         "-0.3154",
         "-0.4882",
         "0.4055",
         "-0.0014"
        ],
        [
         "cross_entropy",
         "-0.3154",
         "1.0",
         "0.451",
         "0.1785",
         "-0.1781"
        ],
        [
         "entropy",
         "-0.4882",
         "0.451",
         "1.0",
         "-0.6696",
         "-0.122"
        ],
        [
         "kl_divergence",
         "0.4055",
         "0.1785",
         "-0.6696",
         "1.0",
         "-0.0054"
        ],
        [
         "freq_pct_inc",
         "-0.0014",
         "-0.1781",
         "-0.122",
         "-0.0054",
         "1.0"
        ]
       ],
       "shape": {
        "columns": 5,
        "rows": 5
       }
      },
      "text/html": [
       "<div>\n",
       "<style scoped>\n",
       "    .dataframe tbody tr th:only-of-type {\n",
       "        vertical-align: middle;\n",
       "    }\n",
       "\n",
       "    .dataframe tbody tr th {\n",
       "        vertical-align: top;\n",
       "    }\n",
       "\n",
       "    .dataframe thead th {\n",
       "        text-align: right;\n",
       "    }\n",
       "</style>\n",
       "<table border=\"1\" class=\"dataframe\">\n",
       "  <thead>\n",
       "    <tr style=\"text-align: right;\">\n",
       "      <th></th>\n",
       "      <th>cosine_similarity</th>\n",
       "      <th>cross_entropy</th>\n",
       "      <th>entropy</th>\n",
       "      <th>kl_divergence</th>\n",
       "      <th>freq_pct_inc</th>\n",
       "    </tr>\n",
       "  </thead>\n",
       "  <tbody>\n",
       "    <tr>\n",
       "      <th>cosine_similarity</th>\n",
       "      <td>1.0000</td>\n",
       "      <td>-0.3154</td>\n",
       "      <td>-0.4882</td>\n",
       "      <td>0.4055</td>\n",
       "      <td>-0.0014</td>\n",
       "    </tr>\n",
       "    <tr>\n",
       "      <th>cross_entropy</th>\n",
       "      <td>-0.3154</td>\n",
       "      <td>1.0000</td>\n",
       "      <td>0.4510</td>\n",
       "      <td>0.1785</td>\n",
       "      <td>-0.1781</td>\n",
       "    </tr>\n",
       "    <tr>\n",
       "      <th>entropy</th>\n",
       "      <td>-0.4882</td>\n",
       "      <td>0.4510</td>\n",
       "      <td>1.0000</td>\n",
       "      <td>-0.6696</td>\n",
       "      <td>-0.1220</td>\n",
       "    </tr>\n",
       "    <tr>\n",
       "      <th>kl_divergence</th>\n",
       "      <td>0.4055</td>\n",
       "      <td>0.1785</td>\n",
       "      <td>-0.6696</td>\n",
       "      <td>1.0000</td>\n",
       "      <td>-0.0054</td>\n",
       "    </tr>\n",
       "    <tr>\n",
       "      <th>freq_pct_inc</th>\n",
       "      <td>-0.0014</td>\n",
       "      <td>-0.1781</td>\n",
       "      <td>-0.1220</td>\n",
       "      <td>-0.0054</td>\n",
       "      <td>1.0000</td>\n",
       "    </tr>\n",
       "  </tbody>\n",
       "</table>\n",
       "</div>"
      ],
      "text/plain": [
       "                   cosine_similarity  cross_entropy  entropy  kl_divergence  freq_pct_inc\n",
       "cosine_similarity             1.0000        -0.3154  -0.4882         0.4055       -0.0014\n",
       "cross_entropy                -0.3154         1.0000   0.4510         0.1785       -0.1781\n",
       "entropy                      -0.4882         0.4510   1.0000        -0.6696       -0.1220\n",
       "kl_divergence                 0.4055         0.1785  -0.6696         1.0000       -0.0054\n",
       "freq_pct_inc                 -0.0014        -0.1781  -0.1220        -0.0054        1.0000"
      ]
     },
     "execution_count": 25,
     "metadata": {},
     "output_type": "execute_result"
    }
   ],
   "source": [
    "df_chain[['cosine_similarity', 'cross_entropy', 'entropy', 'kl_divergence', 'freq_pct_inc']].corr(method='spearman').round(4)"
   ]
  }
 ],
 "metadata": {
  "kernelspec": {
   "display_name": "python_3_7",
   "language": "python",
   "name": "python3"
  },
  "language_info": {
   "codemirror_mode": {
    "name": "ipython",
    "version": 3
   },
   "file_extension": ".py",
   "mimetype": "text/x-python",
   "name": "python",
   "nbconvert_exporter": "python",
   "pygments_lexer": "ipython3",
   "version": "3.7.17"
  }
 },
 "nbformat": 4,
 "nbformat_minor": 5
}
